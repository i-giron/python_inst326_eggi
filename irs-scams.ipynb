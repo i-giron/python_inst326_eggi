{
 "cells": [
  {
   "cell_type": "code",
   "execution_count": 1,
   "metadata": {},
   "outputs": [],
   "source": [
    "import pandas as pd\n",
    "import matplotlib as mpl\n",
    "import datetime as dt\n",
    "import re\n",
    "from tkinter import *\n",
    "from matplotlib.backends.backend_tkagg import FigureCanvasTkAgg\n",
    "\n",
    "%matplotlib inline"
   ]
  },
  {
   "cell_type": "markdown",
   "metadata": {},
   "source": [
    "## Defining the IRS Scams Manager Class\n",
    "\n",
    "The manager class contains functions to prepare our cvs files for discoveries that will answer our research question."
   ]
  },
  {
   "cell_type": "code",
   "execution_count": 2,
   "metadata": {},
   "outputs": [],
   "source": [
    "class IRSScamsManager:\n",
    "    \n",
    "    name_replace_pat = re.compile(r\"[^a-z]+\")\n",
    "    \n",
    "    # The columns and columns names differed slightly between the\n",
    "    # two Excel files, so we clean them up here.\n",
    "    @staticmethod\n",
    "    def convert_col_names(names):\n",
    "        return [ re.sub(IRSScamsManager.name_replace_pat, \"_\", name.lower().strip())\n",
    "            for name in names ]\n",
    "    \n",
    "    @staticmethod\n",
    "    def rename_cols(df):\n",
    "        return df.rename(columns=dict(zip(df.columns, IRSScamsManager.convert_col_names(df.columns))))\n",
    "    \n",
    "    @staticmethod\n",
    "    def clean_state_codes(state_name):\n",
    "        if type(state_name) == str and \"|\" in state_name:\n",
    "            non_null = list(filter(lambda x: x != \"\", state_name.split(\"|\")))\n",
    "            if len(non_null):\n",
    "                return non_null[0]\n",
    "            else:\n",
    "                return None\n",
    "        else:\n",
    "            return state_name"
   ]
  },
  {
   "cell_type": "markdown",
   "metadata": {},
   "source": [
    "## Loading The Data\n",
    "\n",
    "The data for this analysis was obtained via a Freedom of Information Act request to the Federal Trade Commission. Originally, the data came in two Excel files, which have been converted to CSVs for the purposes of this analysis."
   ]
  },
  {
   "cell_type": "code",
   "execution_count": 3,
   "metadata": {
    "scrolled": true
   },
   "outputs": [],
   "source": [
    "early_data = IRSScamsManager.rename_cols(pd.read_csv(\"FTC_2011-43014.csv\", encoding = \"ISO-8859-1\"))\n",
    "later_data = IRSScamsManager.rename_cols(pd.read_csv(\"FTC_5114-71014.csv\", encoding = \"ISO-8859-1\"))"
   ]
  },
  {
   "cell_type": "code",
   "execution_count": 4,
   "metadata": {
    "scrolled": true
   },
   "outputs": [],
   "source": [
    "df = pd.concat([early_data, later_data], sort=False)"
   ]
  },
  {
   "cell_type": "code",
   "execution_count": 5,
   "metadata": {},
   "outputs": [],
   "source": [
    "df[\"created_datetime\"] = df[\"created_date\"].apply(lambda x: dt.datetime.strptime(str(x), \"%m/%d/%Y\") if not pd.isnull(x) else None)"
   ]
  },
  {
   "cell_type": "code",
   "execution_count": 6,
   "metadata": {},
   "outputs": [],
   "source": [
    "df = df.set_index(\"created_datetime\")"
   ]
  },
  {
   "cell_type": "code",
   "execution_count": 7,
   "metadata": {},
   "outputs": [
    {
     "data": {
      "text/html": [
       "<div>\n",
       "<style scoped>\n",
       "    .dataframe tbody tr th:only-of-type {\n",
       "        vertical-align: middle;\n",
       "    }\n",
       "\n",
       "    .dataframe tbody tr th {\n",
       "        vertical-align: top;\n",
       "    }\n",
       "\n",
       "    .dataframe thead th {\n",
       "        text-align: right;\n",
       "    }\n",
       "</style>\n",
       "<table border=\"1\" class=\"dataframe\">\n",
       "  <thead>\n",
       "    <tr style=\"text-align: right;\">\n",
       "      <th></th>\n",
       "      <th>reference_number</th>\n",
       "      <th>created_date</th>\n",
       "      <th>consumer_address_city</th>\n",
       "      <th>consumer_address_state_code</th>\n",
       "      <th>company_name</th>\n",
       "      <th>company_phone_area_code</th>\n",
       "      <th>company_phone_number</th>\n",
       "      <th>company_phone_extension</th>\n",
       "      <th>complaint_info_initial_contact_method</th>\n",
       "      <th>complaint_info_product_service_code</th>\n",
       "    </tr>\n",
       "    <tr>\n",
       "      <th>created_datetime</th>\n",
       "      <th></th>\n",
       "      <th></th>\n",
       "      <th></th>\n",
       "      <th></th>\n",
       "      <th></th>\n",
       "      <th></th>\n",
       "      <th></th>\n",
       "      <th></th>\n",
       "      <th></th>\n",
       "      <th></th>\n",
       "    </tr>\n",
       "  </thead>\n",
       "  <tbody>\n",
       "    <tr>\n",
       "      <th>2011-01-04</th>\n",
       "      <td>28741989</td>\n",
       "      <td>01/04/2011</td>\n",
       "      <td>Waianae</td>\n",
       "      <td>HI</td>\n",
       "      <td>IRS</td>\n",
       "      <td>NaN</td>\n",
       "      <td>NaN</td>\n",
       "      <td>NaN</td>\n",
       "      <td>Phone</td>\n",
       "      <td>2143|9043</td>\n",
       "    </tr>\n",
       "    <tr>\n",
       "      <th>2011-01-10</th>\n",
       "      <td>28803726</td>\n",
       "      <td>01/10/2011</td>\n",
       "      <td>Marietta</td>\n",
       "      <td>GA</td>\n",
       "      <td>Georgia State IRS</td>\n",
       "      <td>770</td>\n",
       "      <td>9448020</td>\n",
       "      <td>NaN</td>\n",
       "      <td>Phone</td>\n",
       "      <td>9043</td>\n",
       "    </tr>\n",
       "    <tr>\n",
       "      <th>2011-01-12</th>\n",
       "      <td>28827558</td>\n",
       "      <td>01/12/2011</td>\n",
       "      <td>Fort Worth</td>\n",
       "      <td>TX</td>\n",
       "      <td>IRS</td>\n",
       "      <td>872</td>\n",
       "      <td>4796242</td>\n",
       "      <td>NaN</td>\n",
       "      <td>Phone</td>\n",
       "      <td>2142|9043</td>\n",
       "    </tr>\n",
       "    <tr>\n",
       "      <th>2011-01-13</th>\n",
       "      <td>28842181</td>\n",
       "      <td>01/13/2011</td>\n",
       "      <td>Orangeburg</td>\n",
       "      <td>SC</td>\n",
       "      <td>IRS</td>\n",
       "      <td>800</td>\n",
       "      <td>8297650</td>\n",
       "      <td>NaN</td>\n",
       "      <td>Phone</td>\n",
       "      <td>9043</td>\n",
       "    </tr>\n",
       "    <tr>\n",
       "      <th>2011-01-19</th>\n",
       "      <td>28890200</td>\n",
       "      <td>01/19/2011</td>\n",
       "      <td>Morton</td>\n",
       "      <td>MN</td>\n",
       "      <td>IRS|Readers Digest</td>\n",
       "      <td>876|</td>\n",
       "      <td>4355471|</td>\n",
       "      <td>|</td>\n",
       "      <td>Phone</td>\n",
       "      <td>4190|9043</td>\n",
       "    </tr>\n",
       "  </tbody>\n",
       "</table>\n",
       "</div>"
      ],
      "text/plain": [
       "                  reference_number created_date consumer_address_city  \\\n",
       "created_datetime                                                        \n",
       "2011-01-04                28741989   01/04/2011               Waianae   \n",
       "2011-01-10                28803726   01/10/2011              Marietta   \n",
       "2011-01-12                28827558   01/12/2011            Fort Worth   \n",
       "2011-01-13                28842181   01/13/2011            Orangeburg   \n",
       "2011-01-19                28890200   01/19/2011                Morton   \n",
       "\n",
       "                 consumer_address_state_code        company_name  \\\n",
       "created_datetime                                                   \n",
       "2011-01-04                                HI                 IRS   \n",
       "2011-01-10                                GA   Georgia State IRS   \n",
       "2011-01-12                                TX                 IRS   \n",
       "2011-01-13                                SC                 IRS   \n",
       "2011-01-19                                MN  IRS|Readers Digest   \n",
       "\n",
       "                 company_phone_area_code company_phone_number  \\\n",
       "created_datetime                                                \n",
       "2011-01-04                           NaN                  NaN   \n",
       "2011-01-10                           770              9448020   \n",
       "2011-01-12                           872              4796242   \n",
       "2011-01-13                           800              8297650   \n",
       "2011-01-19                          876|             4355471|   \n",
       "\n",
       "                 company_phone_extension  \\\n",
       "created_datetime                           \n",
       "2011-01-04                           NaN   \n",
       "2011-01-10                           NaN   \n",
       "2011-01-12                           NaN   \n",
       "2011-01-13                           NaN   \n",
       "2011-01-19                             |   \n",
       "\n",
       "                 complaint_info_initial_contact_method  \\\n",
       "created_datetime                                         \n",
       "2011-01-04                                       Phone   \n",
       "2011-01-10                                       Phone   \n",
       "2011-01-12                                       Phone   \n",
       "2011-01-13                                       Phone   \n",
       "2011-01-19                                       Phone   \n",
       "\n",
       "                 complaint_info_product_service_code  \n",
       "created_datetime                                      \n",
       "2011-01-04                                 2143|9043  \n",
       "2011-01-10                                      9043  \n",
       "2011-01-12                                 2142|9043  \n",
       "2011-01-13                                      9043  \n",
       "2011-01-19                                 4190|9043  "
      ]
     },
     "execution_count": 7,
     "metadata": {},
     "output_type": "execute_result"
    }
   ],
   "source": [
    "df.head()"
   ]
  },
  {
   "cell_type": "markdown",
   "metadata": {},
   "source": [
    "## Cleaning Up the \"Created Date\"s and State Codes\n",
    "\n",
    "A few of the columns in the data sometimes contain `|` to delimit multiple options selected on a complaint. To simplify the analysis, we take just the first state in multi-state complaints."
   ]
  },
  {
   "cell_type": "code",
   "execution_count": 8,
   "metadata": {},
   "outputs": [],
   "source": [
    "df[\"clean_state\"] = df[\"consumer_address_state_code\"].apply(IRSScamsManager.clean_state_codes)"
   ]
  },
  {
   "cell_type": "code",
   "execution_count": 9,
   "metadata": {},
   "outputs": [
    {
     "data": {
      "image/png": "[encoded data removed]",
      "text/plain": [
       "<Figure size 432x288 with 1 Axes>"
      ]
     },
     "metadata": {
      "needs_background": "light"
     },
     "output_type": "display_data"
    }
   ],
   "source": [
    "# Note: selecting only complaints through June 2014, the last full month with data\n",
    "ax = df.loc[:\"2014-06\"][\"company_name\"].resample(\"M\").count().plot()\n",
    "ax.set_title(\"Complaints Per Month\\n\")\n",
    "ax.set_ylim(0)\n",
    "ax.grid(which='major', axis='both', linestyle='--')\n",
    "pass"
   ]
  },
  {
   "cell_type": "markdown",
   "metadata": {},
   "source": [
    "## What Types of Communication Are Scammers Using?"
   ]
  },
  {
   "cell_type": "code",
   "execution_count": 10,
   "metadata": {},
   "outputs": [
    {
     "data": {
      "text/plain": [
       "Phone Call: Landline       10044\n",
       "Phone                       2769\n",
       "Phone Call: Mobile/Cell     2543\n",
       "Internet/E-mail              226\n",
       "Mobile: Text/Email/IM         58\n",
       "Mail                          57\n",
       "I Initiated Contact           36\n",
       "Unknown                       34\n",
       "Internet Web Site             30\n",
       "In Person                     16\n",
       "Internet (Other)              11\n",
       "Wireless                       7\n",
       "Fax                            3\n",
       "Print                          3\n",
       "TV/Radio                       1\n",
       "Name: complaint_info_initial_contact_method, dtype: int64"
      ]
     },
     "execution_count": 10,
     "metadata": {},
     "output_type": "execute_result"
    }
   ],
   "source": [
    "df[\"complaint_info_initial_contact_method\"].value_counts()"
   ]
  },
  {
   "cell_type": "code",
   "execution_count": 11,
   "metadata": {},
   "outputs": [],
   "source": [
    "# GUI Representation\n",
    "contactMethodTotal ={'Contact Method':df[\"complaint_info_initial_contact_method\"].value_counts().index.tolist(),\n",
    "          'Total': df[\"complaint_info_initial_contact_method\"].value_counts()}\n",
    "df1 = pd.DataFrame(contactMethodTotal, columns = ['Contact Method', 'Total'])\n",
    "df1 = df1[['Contact Method', 'Total']].groupby('Contact Method').sum()\n",
    "root = Tk()\n",
    "root.title('Contact Methods From Scammers')\n",
    "root.geometry(\"1300x1600\")\n",
    "figure1 = mpl.pyplot.Figure(figsize=(20, 2), dpi=80)\n",
    "ax1 = figure1.add_subplot(111)\n",
    "bar1 = FigureCanvasTkAgg(figure1, root)\n",
    "bar1.get_tk_widget().pack(side=LEFT, fill=BOTH)\n",
    "df1.plot.barh(legend=False, ax=ax1, color='ybgrcm')\n",
    "ax1.set_title('Contact Methods Vs. Total Scams')\n",
    "    \n",
    "root.mainloop()"
   ]
  },
  {
   "cell_type": "code",
   "execution_count": 12,
   "metadata": {},
   "outputs": [],
   "source": [
    "# Coalesce \"Phone\" types\n",
    "df[\"phone\"] = df['complaint_info_initial_contact_method'].apply(lambda x: int(\"Phone\" in str(x)))"
   ]
  },
  {
   "cell_type": "code",
   "execution_count": 13,
   "metadata": {},
   "outputs": [
    {
     "data": {
      "image/png": "[encoded data removed]",
      "text/plain": [
       "<Figure size 432x288 with 1 Axes>"
      ]
     },
     "metadata": {
      "needs_background": "light"
     },
     "output_type": "display_data"
    }
   ],
   "source": [
    "ax = df[\"phone\"].loc[:\"2014-06\"].resample(\"M\").count().plot()\n",
    "ax.set_title(\"Phone-Related Complaints By Month\\n\")\n",
    "ax.set_ylim(0)\n",
    "ax.grid(which='major', axis='both', linestyle='--')\n",
    "pass"
   ]
  },
  {
   "cell_type": "markdown",
   "metadata": {},
   "source": [
    "## Finding the Change Over Time\n",
    "\n",
    "The trend in the graph is obviously a huge spike. Let's look at all the months for which we have a full set of data available and see just how big the change has been over time."
   ]
  },
  {
   "cell_type": "code",
   "execution_count": 14,
   "metadata": {},
   "outputs": [],
   "source": [
    "complaints_by_month = df[\"reference_number\"].resample(\"MS\").count()"
   ]
  },
  {
   "cell_type": "code",
   "execution_count": 15,
   "metadata": {},
   "outputs": [],
   "source": [
    "first_six_months_2011 = complaints_by_month.loc[\"2011-01\": \"2011-06\"].sum()\n",
    "first_six_months_2012 = complaints_by_month.loc[\"2012-01\": \"2012-06\"].sum()\n",
    "first_six_months_2013 = complaints_by_month.loc[\"2013-01\": \"2013-06\"].sum()\n",
    "first_six_months_2014 = complaints_by_month.loc[\"2014-01\": \"2014-06\"].sum()"
   ]
  },
  {
   "cell_type": "code",
   "execution_count": 16,
   "metadata": {},
   "outputs": [
    {
     "name": "stdout",
     "output_type": "stream",
     "text": [
      "Pct. Change 2012 vs. 2011: 5.63%\n",
      "Pct. Change 2013 vs. 2012: 133.33%\n",
      "Pct. Change 2014 vs. 2013: 3,529.14%\n"
     ]
    }
   ],
   "source": [
    "print(\"Pct. Change 2012 vs. 2011: {pct:,.2f}%\".format(pct=(first_six_months_2012-first_six_months_2011)/float(first_six_months_2011)*100))\n",
    "print(\"Pct. Change 2013 vs. 2012: {pct:,.2f}%\".format(pct=(first_six_months_2013-first_six_months_2012)/float(first_six_months_2012)*100))\n",
    "print(\"Pct. Change 2014 vs. 2013: {pct:,.2f}%\".format(pct=(first_six_months_2014-first_six_months_2013)/float(first_six_months_2013)*100))"
   ]
  },
  {
   "cell_type": "code",
   "execution_count": 17,
   "metadata": {},
   "outputs": [
    {
     "data": {
      "text/plain": [
       "36"
      ]
     },
     "execution_count": 17,
     "metadata": {},
     "output_type": "execute_result"
    }
   ],
   "source": [
    "int(first_six_months_2014/first_six_months_2013)"
   ]
  },
  {
   "cell_type": "markdown",
   "metadata": {},
   "source": [
    "## Where Are These Phone Calls Coming From?"
   ]
  },
  {
   "cell_type": "markdown",
   "metadata": {},
   "source": [
    "Washington DC's main area code — *202* — accounts for far more phone calls than any other area code."
   ]
  },
  {
   "cell_type": "code",
   "execution_count": 18,
   "metadata": {},
   "outputs": [
    {
     "data": {
      "text/plain": [
       "202    6113\n",
       "415    1549\n",
       "585     818\n",
       "888     674\n",
       "206     416\n",
       "530     401\n",
       "347     368\n",
       "800     332\n",
       "866     320\n",
       "716     305\n",
       "877     150\n",
       "844     145\n",
       "571     134\n",
       "213     124\n",
       "917     107\n",
       "876      96\n",
       "516      89\n",
       "425      82\n",
       "646      79\n",
       "253      79\n",
       "Name: company_phone_area_code, dtype: int64"
      ]
     },
     "execution_count": 18,
     "metadata": {},
     "output_type": "execute_result"
    }
   ],
   "source": [
    "df['company_phone_area_code'].value_counts().head(20)"
   ]
  },
  {
   "cell_type": "code",
   "execution_count": 19,
   "metadata": {},
   "outputs": [],
   "source": [
    "# GUI Representation\n",
    "companyPhoneAreaCodeTotal ={'Company Phone Area Code':df['company_phone_area_code'].value_counts().head(20).index.tolist(),\n",
    "          'Total': df['company_phone_area_code'].value_counts().head(20)}\n",
    "df1 = pd.DataFrame(companyPhoneAreaCodeTotal, columns = ['Company Phone Area Code', 'Total'])\n",
    "df1 = df1[['Company Phone Area Code', 'Total']].groupby('Company Phone Area Code').sum()\n",
    "root = Tk()\n",
    "root.title('Phone Calls by Company Phone Area Code')\n",
    "root.geometry(\"1300x1600\")\n",
    "figure1 = mpl.pyplot.Figure(figsize=(20, 2), dpi=80)\n",
    "ax1 = figure1.add_subplot(111)\n",
    "bar1 = FigureCanvasTkAgg(figure1, root)\n",
    "bar1.get_tk_widget().pack(side=LEFT, fill=BOTH)\n",
    "df1.plot.bar(legend=False, ax=ax1, color='ybgrcm')\n",
    "ax1.set_title('Company Phone Area Codes Vs. Total Phone Calls')\n",
    "for p in ax1.patches:\n",
    "    ax1.annotate(str(p.get_height()), (p.get_x() * 1.005, p.get_height() * 1.005))\n",
    "\n",
    "root.mainloop()"
   ]
  },
  {
   "cell_type": "code",
   "execution_count": 20,
   "metadata": {},
   "outputs": [],
   "source": [
    "top_phone_numbers = pd.DataFrame(df.groupby(['company_phone_area_code', 'company_phone_number']).size(), columns=[\"complaints\"])"
   ]
  },
  {
   "cell_type": "code",
   "execution_count": 21,
   "metadata": {},
   "outputs": [
    {
     "data": {
      "text/html": [
       "<div>\n",
       "<style scoped>\n",
       "    .dataframe tbody tr th:only-of-type {\n",
       "        vertical-align: middle;\n",
       "    }\n",
       "\n",
       "    .dataframe tbody tr th {\n",
       "        vertical-align: top;\n",
       "    }\n",
       "\n",
       "    .dataframe thead th {\n",
       "        text-align: right;\n",
       "    }\n",
       "</style>\n",
       "<table border=\"1\" class=\"dataframe\">\n",
       "  <thead>\n",
       "    <tr style=\"text-align: right;\">\n",
       "      <th></th>\n",
       "      <th></th>\n",
       "      <th>complaints</th>\n",
       "    </tr>\n",
       "    <tr>\n",
       "      <th>company_phone_area_code</th>\n",
       "      <th>company_phone_number</th>\n",
       "      <th></th>\n",
       "    </tr>\n",
       "  </thead>\n",
       "  <tbody>\n",
       "    <tr>\n",
       "      <th rowspan=\"2\" valign=\"top\">585</th>\n",
       "      <th>6331814</th>\n",
       "      <td>165</td>\n",
       "    </tr>\n",
       "    <tr>\n",
       "      <th>6331792</th>\n",
       "      <td>148</td>\n",
       "    </tr>\n",
       "    <tr>\n",
       "      <th rowspan=\"2\" valign=\"top\">415</th>\n",
       "      <th>2514089</th>\n",
       "      <td>131</td>\n",
       "    </tr>\n",
       "    <tr>\n",
       "      <th>2511037</th>\n",
       "      <td>126</td>\n",
       "    </tr>\n",
       "    <tr>\n",
       "      <th>800</th>\n",
       "      <th>8291040</th>\n",
       "      <td>103</td>\n",
       "    </tr>\n",
       "    <tr>\n",
       "      <th>415</th>\n",
       "      <th>2510522</th>\n",
       "      <td>96</td>\n",
       "    </tr>\n",
       "    <tr>\n",
       "      <th rowspan=\"4\" valign=\"top\">202</th>\n",
       "      <th>2413122</th>\n",
       "      <td>94</td>\n",
       "    </tr>\n",
       "    <tr>\n",
       "      <th>5069044</th>\n",
       "      <td>89</td>\n",
       "    </tr>\n",
       "    <tr>\n",
       "      <th>2412158</th>\n",
       "      <td>84</td>\n",
       "    </tr>\n",
       "    <tr>\n",
       "      <th>2411435</th>\n",
       "      <td>80</td>\n",
       "    </tr>\n",
       "    <tr>\n",
       "      <th>415</th>\n",
       "      <th>4848569</th>\n",
       "      <td>78</td>\n",
       "    </tr>\n",
       "    <tr>\n",
       "      <th>202</th>\n",
       "      <th>2411375</th>\n",
       "      <td>78</td>\n",
       "    </tr>\n",
       "    <tr>\n",
       "      <th>347</th>\n",
       "      <th>5597963</th>\n",
       "      <td>78</td>\n",
       "    </tr>\n",
       "    <tr>\n",
       "      <th>202</th>\n",
       "      <th>5069319</th>\n",
       "      <td>75</td>\n",
       "    </tr>\n",
       "    <tr>\n",
       "      <th>347</th>\n",
       "      <th>5590378</th>\n",
       "      <td>71</td>\n",
       "    </tr>\n",
       "    <tr>\n",
       "      <th rowspan=\"3\" valign=\"top\">202</th>\n",
       "      <th>2411818</th>\n",
       "      <td>68</td>\n",
       "    </tr>\n",
       "    <tr>\n",
       "      <th>5068708</th>\n",
       "      <td>67</td>\n",
       "    </tr>\n",
       "    <tr>\n",
       "      <th>2807395</th>\n",
       "      <td>66</td>\n",
       "    </tr>\n",
       "    <tr>\n",
       "      <th>530</th>\n",
       "      <th>2385813</th>\n",
       "      <td>64</td>\n",
       "    </tr>\n",
       "    <tr>\n",
       "      <th>206</th>\n",
       "      <th>4144646</th>\n",
       "      <td>60</td>\n",
       "    </tr>\n",
       "  </tbody>\n",
       "</table>\n",
       "</div>"
      ],
      "text/plain": [
       "                                              complaints\n",
       "company_phone_area_code company_phone_number            \n",
       "585                     6331814                      165\n",
       "                        6331792                      148\n",
       "415                     2514089                      131\n",
       "                        2511037                      126\n",
       "800                     8291040                      103\n",
       "415                     2510522                       96\n",
       "202                     2413122                       94\n",
       "                        5069044                       89\n",
       "                        2412158                       84\n",
       "                        2411435                       80\n",
       "415                     4848569                       78\n",
       "202                     2411375                       78\n",
       "347                     5597963                       78\n",
       "202                     5069319                       75\n",
       "347                     5590378                       71\n",
       "202                     2411818                       68\n",
       "                        5068708                       67\n",
       "                        2807395                       66\n",
       "530                     2385813                       64\n",
       "206                     4144646                       60"
      ]
     },
     "execution_count": 21,
     "metadata": {},
     "output_type": "execute_result"
    }
   ],
   "source": [
    "top_phone_numbers.sort_values(\"complaints\", ascending=False).head(20)"
   ]
  },
  {
   "cell_type": "code",
   "execution_count": 22,
   "metadata": {},
   "outputs": [],
   "source": [
    "df_202 = df[df[\"company_phone_area_code\"] == \"202\"]"
   ]
  },
  {
   "cell_type": "code",
   "execution_count": 23,
   "metadata": {},
   "outputs": [
    {
     "data": {
      "image/png": "[encoded data removed]",
      "text/plain": [
       "<Figure size 432x288 with 1 Axes>"
      ]
     },
     "metadata": {
      "needs_background": "light"
     },
     "output_type": "display_data"
    }
   ],
   "source": [
    "ax = df_202.loc[:\"2014-06\"][\"phone\"].resample(\"M\").sum().plot()\n",
    "ax.set_title(u\"Area Code 202–Related Complaints\\n\")\n",
    "ax.set_ylim(0)\n",
    "ax.grid(which='major', axis='both', linestyle='--')\n",
    "pass"
   ]
  },
  {
   "cell_type": "code",
   "execution_count": 24,
   "metadata": {},
   "outputs": [],
   "source": [
    "df_202_by_month = df_202[\"reference_number\"].resample(\"MS\").count()"
   ]
  },
  {
   "cell_type": "code",
   "execution_count": 25,
   "metadata": {},
   "outputs": [
    {
     "name": "stdout",
     "output_type": "stream",
     "text": [
      "Area code 202 accounted for 38.9% of all complaints during the first six months of 2014\n"
     ]
    }
   ],
   "source": [
    "print(\"Area code 202 accounted for {0:,.1f}% of all complaints during the first six months of 2014\"\n",
    "      .format(100 * float(df_202_by_month.loc[\"2014-01\":\"2014-06\"].sum()/float(first_six_months_2014))))"
   ]
  },
  {
   "cell_type": "markdown",
   "metadata": {},
   "source": [
    "## The Most Popular States and Cities to Scam"
   ]
  },
  {
   "cell_type": "code",
   "execution_count": 26,
   "metadata": {},
   "outputs": [
    {
     "data": {
      "text/plain": [
       "CA    2471\n",
       "NY    1189\n",
       "FL     965\n",
       "TX     942\n",
       "NJ     663\n",
       "PA     555\n",
       "VA     545\n",
       "IL     532\n",
       "MA     503\n",
       "GA     437\n",
       "OH     414\n",
       "AZ     413\n",
       "WA     408\n",
       "MD     360\n",
       "MI     348\n",
       "NC     339\n",
       "IN     287\n",
       "CO     280\n",
       "OR     228\n",
       "NV     223\n",
       "Name: clean_state, dtype: int64"
      ]
     },
     "execution_count": 26,
     "metadata": {},
     "output_type": "execute_result"
    }
   ],
   "source": [
    "df['clean_state'].dropna().value_counts().head(20)"
   ]
  },
  {
   "cell_type": "code",
   "execution_count": 27,
   "metadata": {},
   "outputs": [],
   "source": [
    "# GUI Representation\n",
    "statesTotal ={'States':df['clean_state'].dropna().value_counts().head(20).index.tolist(),\n",
    "          'Total': df['clean_state'].dropna().value_counts().head(20)}\n",
    "df1 = pd.DataFrame(statesTotal, columns = ['States', 'Total'])\n",
    "df1 = df1[['States', 'Total']].groupby('States').sum()\n",
    "root = Tk()\n",
    "root.title('The Most Popular States to Scam')\n",
    "root.geometry(\"1300x1600\")\n",
    "figure1 = mpl.pyplot.Figure(figsize=(20, 2), dpi=80)\n",
    "ax1 = figure1.add_subplot(111)\n",
    "ax1.set_xlabel('States')\n",
    "bar1 = FigureCanvasTkAgg(figure1, root)\n",
    "bar1.get_tk_widget().pack(side=LEFT, fill=BOTH)\n",
    "explode_largest = (0, 0.1, 0, 0, 0, 0, 0, 0, 0, 0, 0, 0, 0, 0, 0, 0, 0, 0, 0, 0)\n",
    "df1.plot.pie(autopct='%.2f', explode=explode_largest, legend=False, subplots=True, ax=ax1, shadow=True, startangle=90)\n",
    "ax1.set_title('States Vs. Total Scams')\n",
    "\n",
    "root.mainloop()"
   ]
  },
  {
   "cell_type": "code",
   "execution_count": 28,
   "metadata": {},
   "outputs": [
    {
     "data": {
      "text/plain": [
       "Las Vegas        130\n",
       "Houston          112\n",
       "New York         106\n",
       "Brooklyn         103\n",
       "San Jose         100\n",
       "Los Angeles       95\n",
       "Phoenix           86\n",
       "San Diego         83\n",
       "Chicago           75\n",
       "San Francisco     71\n",
       "Charlotte         66\n",
       "Washington        66\n",
       "Austin            65\n",
       "Albuquerque       58\n",
       "Denver            55\n",
       "Tucson            53\n",
       "Seattle           53\n",
       "Portland          49\n",
       "Indianapolis      49\n",
       "Honolulu          48\n",
       "Name: consumer_address_city, dtype: int64"
      ]
     },
     "execution_count": 28,
     "metadata": {},
     "output_type": "execute_result"
    }
   ],
   "source": [
    "df['consumer_address_city'].value_counts().head(20)"
   ]
  },
  {
   "cell_type": "code",
   "execution_count": 29,
   "metadata": {},
   "outputs": [],
   "source": [
    "# GUI Representation\n",
    "citiesTotal ={'Cities':df['consumer_address_city'].value_counts().head(20).index.tolist(),\n",
    "          'Total': df['consumer_address_city'].value_counts().head(20).head(20)}\n",
    "df1 = pd.DataFrame(citiesTotal, columns = ['Cities', 'Total'])\n",
    "df1 = df1[['Cities', 'Total']].groupby('Cities').sum()\n",
    "root = Tk()\n",
    "root.title('The Most Popular Cities to Scam')\n",
    "root.geometry(\"1300x1600\")\n",
    "figure1 = mpl.pyplot.Figure(figsize=(20, 2), dpi=80)\n",
    "ax1 = figure1.add_subplot(111)\n",
    "ax1.set_xlabel('Cities')\n",
    "bar1 = FigureCanvasTkAgg(figure1, root)\n",
    "bar1.get_tk_widget().pack(side=LEFT, fill=BOTH)\n",
    "explode_largest = (0, 0, 0, 0, 0, 0, 0, 0, 0, 0.1, 0, 0, 0, 0, 0, 0, 0, 0, 0, 0)\n",
    "df1.plot.pie(autopct='%.2f', explode=explode_largest, legend=False, subplots=True, ax=ax1, shadow=True, startangle=90)\n",
    "ax1.set_title('Cities Vs. Total Scams')\n",
    "\n",
    "root.mainloop()"
   ]
  },
  {
   "cell_type": "markdown",
   "metadata": {},
   "source": [
    "## Normalizing the 2014 Complaints by State for 2013 Population"
   ]
  },
  {
   "cell_type": "code",
   "execution_count": 30,
   "metadata": {},
   "outputs": [],
   "source": [
    "state_abbreviations = pd.read_csv(\"state_abbreviations.csv\").set_index(\"name\")\n",
    "state_populations = pd.read_csv(\"state_pop_2013.csv\").set_index(\"name\")"
   ]
  },
  {
   "cell_type": "code",
   "execution_count": 31,
   "metadata": {},
   "outputs": [],
   "source": [
    "state_pop = state_populations.join(state_abbreviations).set_index(\"abbr\")"
   ]
  },
  {
   "cell_type": "code",
   "execution_count": 32,
   "metadata": {},
   "outputs": [],
   "source": [
    "df_2014 = df.loc[\"2014\"]\n",
    "states_2014 = pd.DataFrame(df_2014.groupby(['clean_state']).size(), columns=[ \"complaints\" ]).join(state_pop).dropna()"
   ]
  },
  {
   "cell_type": "code",
   "execution_count": 33,
   "metadata": {},
   "outputs": [],
   "source": [
    "assert(len(states_2014) == 52) # 50 States + DC and PR"
   ]
  },
  {
   "cell_type": "code",
   "execution_count": 34,
   "metadata": {},
   "outputs": [],
   "source": [
    "states_2014[\"complaints_per_100k\"] = states_2014.apply(lambda x: round(x[\"complaints\"] / float(x[\"population\"]) * 100000, 1), axis=1)"
   ]
  },
  {
   "cell_type": "code",
   "execution_count": 35,
   "metadata": {},
   "outputs": [],
   "source": [
    "states_2014[\"population\"] = states_2014[\"population\"].astype(\"int\")"
   ]
  },
  {
   "cell_type": "code",
   "execution_count": 37,
   "metadata": {},
   "outputs": [
    {
     "data": {
      "text/html": [
       "<div>\n",
       "<style scoped>\n",
       "    .dataframe tbody tr th:only-of-type {\n",
       "        vertical-align: middle;\n",
       "    }\n",
       "\n",
       "    .dataframe tbody tr th {\n",
       "        vertical-align: top;\n",
       "    }\n",
       "\n",
       "    .dataframe thead th {\n",
       "        text-align: right;\n",
       "    }\n",
       "</style>\n",
       "<table border=\"1\" class=\"dataframe\">\n",
       "  <thead>\n",
       "    <tr style=\"text-align: right;\">\n",
       "      <th></th>\n",
       "      <th>complaints</th>\n",
       "      <th>population</th>\n",
       "      <th>complaints_per_100k</th>\n",
       "    </tr>\n",
       "    <tr>\n",
       "      <th>clean_state</th>\n",
       "      <th></th>\n",
       "      <th></th>\n",
       "      <th></th>\n",
       "    </tr>\n",
       "  </thead>\n",
       "  <tbody>\n",
       "    <tr>\n",
       "      <th>DE</th>\n",
       "      <td>83</td>\n",
       "      <td>925749</td>\n",
       "      <td>9.0</td>\n",
       "    </tr>\n",
       "    <tr>\n",
       "      <th>DC</th>\n",
       "      <td>50</td>\n",
       "      <td>646449</td>\n",
       "      <td>7.7</td>\n",
       "    </tr>\n",
       "    <tr>\n",
       "      <th>NV</th>\n",
       "      <td>197</td>\n",
       "      <td>2790136</td>\n",
       "      <td>7.1</td>\n",
       "    </tr>\n",
       "    <tr>\n",
       "      <th>HI</th>\n",
       "      <td>97</td>\n",
       "      <td>1404054</td>\n",
       "      <td>6.9</td>\n",
       "    </tr>\n",
       "    <tr>\n",
       "      <th>MA</th>\n",
       "      <td>424</td>\n",
       "      <td>6692824</td>\n",
       "      <td>6.3</td>\n",
       "    </tr>\n",
       "    <tr>\n",
       "      <th>NJ</th>\n",
       "      <td>555</td>\n",
       "      <td>8899339</td>\n",
       "      <td>6.2</td>\n",
       "    </tr>\n",
       "    <tr>\n",
       "      <th>VA</th>\n",
       "      <td>469</td>\n",
       "      <td>8260405</td>\n",
       "      <td>5.7</td>\n",
       "    </tr>\n",
       "    <tr>\n",
       "      <th>CA</th>\n",
       "      <td>2150</td>\n",
       "      <td>38332521</td>\n",
       "      <td>5.6</td>\n",
       "    </tr>\n",
       "    <tr>\n",
       "      <th>AZ</th>\n",
       "      <td>353</td>\n",
       "      <td>6626624</td>\n",
       "      <td>5.3</td>\n",
       "    </tr>\n",
       "    <tr>\n",
       "      <th>NM</th>\n",
       "      <td>107</td>\n",
       "      <td>2085287</td>\n",
       "      <td>5.1</td>\n",
       "    </tr>\n",
       "    <tr>\n",
       "      <th>NY</th>\n",
       "      <td>999</td>\n",
       "      <td>19651127</td>\n",
       "      <td>5.1</td>\n",
       "    </tr>\n",
       "    <tr>\n",
       "      <th>WA</th>\n",
       "      <td>350</td>\n",
       "      <td>6971406</td>\n",
       "      <td>5.0</td>\n",
       "    </tr>\n",
       "    <tr>\n",
       "      <th>OR</th>\n",
       "      <td>197</td>\n",
       "      <td>3930065</td>\n",
       "      <td>5.0</td>\n",
       "    </tr>\n",
       "    <tr>\n",
       "      <th>CT</th>\n",
       "      <td>171</td>\n",
       "      <td>3596080</td>\n",
       "      <td>4.8</td>\n",
       "    </tr>\n",
       "    <tr>\n",
       "      <th>MD</th>\n",
       "      <td>287</td>\n",
       "      <td>5928814</td>\n",
       "      <td>4.8</td>\n",
       "    </tr>\n",
       "    <tr>\n",
       "      <th>CO</th>\n",
       "      <td>241</td>\n",
       "      <td>5268367</td>\n",
       "      <td>4.6</td>\n",
       "    </tr>\n",
       "    <tr>\n",
       "      <th>NH</th>\n",
       "      <td>55</td>\n",
       "      <td>1323459</td>\n",
       "      <td>4.2</td>\n",
       "    </tr>\n",
       "    <tr>\n",
       "      <th>FL</th>\n",
       "      <td>763</td>\n",
       "      <td>19552860</td>\n",
       "      <td>3.9</td>\n",
       "    </tr>\n",
       "    <tr>\n",
       "      <th>ID</th>\n",
       "      <td>61</td>\n",
       "      <td>1612136</td>\n",
       "      <td>3.8</td>\n",
       "    </tr>\n",
       "    <tr>\n",
       "      <th>GA</th>\n",
       "      <td>366</td>\n",
       "      <td>9992167</td>\n",
       "      <td>3.7</td>\n",
       "    </tr>\n",
       "    <tr>\n",
       "      <th>IN</th>\n",
       "      <td>234</td>\n",
       "      <td>6570902</td>\n",
       "      <td>3.6</td>\n",
       "    </tr>\n",
       "    <tr>\n",
       "      <th>IL</th>\n",
       "      <td>446</td>\n",
       "      <td>12882135</td>\n",
       "      <td>3.5</td>\n",
       "    </tr>\n",
       "    <tr>\n",
       "      <th>PA</th>\n",
       "      <td>436</td>\n",
       "      <td>12773801</td>\n",
       "      <td>3.4</td>\n",
       "    </tr>\n",
       "    <tr>\n",
       "      <th>MN</th>\n",
       "      <td>176</td>\n",
       "      <td>5420380</td>\n",
       "      <td>3.2</td>\n",
       "    </tr>\n",
       "    <tr>\n",
       "      <th>ME</th>\n",
       "      <td>43</td>\n",
       "      <td>1328302</td>\n",
       "      <td>3.2</td>\n",
       "    </tr>\n",
       "    <tr>\n",
       "      <th>MI</th>\n",
       "      <td>290</td>\n",
       "      <td>9895622</td>\n",
       "      <td>2.9</td>\n",
       "    </tr>\n",
       "    <tr>\n",
       "      <th>RI</th>\n",
       "      <td>30</td>\n",
       "      <td>1051511</td>\n",
       "      <td>2.9</td>\n",
       "    </tr>\n",
       "    <tr>\n",
       "      <th>TX</th>\n",
       "      <td>770</td>\n",
       "      <td>26448193</td>\n",
       "      <td>2.9</td>\n",
       "    </tr>\n",
       "    <tr>\n",
       "      <th>WV</th>\n",
       "      <td>53</td>\n",
       "      <td>1854304</td>\n",
       "      <td>2.9</td>\n",
       "    </tr>\n",
       "    <tr>\n",
       "      <th>NC</th>\n",
       "      <td>280</td>\n",
       "      <td>9848060</td>\n",
       "      <td>2.8</td>\n",
       "    </tr>\n",
       "    <tr>\n",
       "      <th>OH</th>\n",
       "      <td>320</td>\n",
       "      <td>11570808</td>\n",
       "      <td>2.8</td>\n",
       "    </tr>\n",
       "    <tr>\n",
       "      <th>WI</th>\n",
       "      <td>157</td>\n",
       "      <td>5742713</td>\n",
       "      <td>2.7</td>\n",
       "    </tr>\n",
       "    <tr>\n",
       "      <th>MT</th>\n",
       "      <td>26</td>\n",
       "      <td>1015165</td>\n",
       "      <td>2.6</td>\n",
       "    </tr>\n",
       "    <tr>\n",
       "      <th>MO</th>\n",
       "      <td>149</td>\n",
       "      <td>6044171</td>\n",
       "      <td>2.5</td>\n",
       "    </tr>\n",
       "    <tr>\n",
       "      <th>WY</th>\n",
       "      <td>14</td>\n",
       "      <td>582658</td>\n",
       "      <td>2.4</td>\n",
       "    </tr>\n",
       "    <tr>\n",
       "      <th>TN</th>\n",
       "      <td>143</td>\n",
       "      <td>6495978</td>\n",
       "      <td>2.2</td>\n",
       "    </tr>\n",
       "    <tr>\n",
       "      <th>SC</th>\n",
       "      <td>106</td>\n",
       "      <td>4774839</td>\n",
       "      <td>2.2</td>\n",
       "    </tr>\n",
       "    <tr>\n",
       "      <th>KY</th>\n",
       "      <td>97</td>\n",
       "      <td>4395295</td>\n",
       "      <td>2.2</td>\n",
       "    </tr>\n",
       "    <tr>\n",
       "      <th>UT</th>\n",
       "      <td>63</td>\n",
       "      <td>2900872</td>\n",
       "      <td>2.2</td>\n",
       "    </tr>\n",
       "    <tr>\n",
       "      <th>NE</th>\n",
       "      <td>40</td>\n",
       "      <td>1868516</td>\n",
       "      <td>2.1</td>\n",
       "    </tr>\n",
       "    <tr>\n",
       "      <th>AL</th>\n",
       "      <td>97</td>\n",
       "      <td>4833722</td>\n",
       "      <td>2.0</td>\n",
       "    </tr>\n",
       "    <tr>\n",
       "      <th>LA</th>\n",
       "      <td>88</td>\n",
       "      <td>4625470</td>\n",
       "      <td>1.9</td>\n",
       "    </tr>\n",
       "    <tr>\n",
       "      <th>KS</th>\n",
       "      <td>51</td>\n",
       "      <td>2893957</td>\n",
       "      <td>1.8</td>\n",
       "    </tr>\n",
       "    <tr>\n",
       "      <th>AK</th>\n",
       "      <td>13</td>\n",
       "      <td>735132</td>\n",
       "      <td>1.8</td>\n",
       "    </tr>\n",
       "    <tr>\n",
       "      <th>IA</th>\n",
       "      <td>54</td>\n",
       "      <td>3090416</td>\n",
       "      <td>1.7</td>\n",
       "    </tr>\n",
       "    <tr>\n",
       "      <th>MS</th>\n",
       "      <td>48</td>\n",
       "      <td>2991207</td>\n",
       "      <td>1.6</td>\n",
       "    </tr>\n",
       "    <tr>\n",
       "      <th>VT</th>\n",
       "      <td>10</td>\n",
       "      <td>626630</td>\n",
       "      <td>1.6</td>\n",
       "    </tr>\n",
       "    <tr>\n",
       "      <th>AR</th>\n",
       "      <td>48</td>\n",
       "      <td>2959373</td>\n",
       "      <td>1.6</td>\n",
       "    </tr>\n",
       "    <tr>\n",
       "      <th>SD</th>\n",
       "      <td>11</td>\n",
       "      <td>844877</td>\n",
       "      <td>1.3</td>\n",
       "    </tr>\n",
       "    <tr>\n",
       "      <th>OK</th>\n",
       "      <td>45</td>\n",
       "      <td>3850568</td>\n",
       "      <td>1.2</td>\n",
       "    </tr>\n",
       "    <tr>\n",
       "      <th>ND</th>\n",
       "      <td>7</td>\n",
       "      <td>723393</td>\n",
       "      <td>1.0</td>\n",
       "    </tr>\n",
       "    <tr>\n",
       "      <th>PR</th>\n",
       "      <td>2</td>\n",
       "      <td>3615086</td>\n",
       "      <td>0.1</td>\n",
       "    </tr>\n",
       "  </tbody>\n",
       "</table>\n",
       "</div>"
      ],
      "text/plain": [
       "             complaints  population  complaints_per_100k\n",
       "clean_state                                             \n",
       "DE                   83      925749                  9.0\n",
       "DC                   50      646449                  7.7\n",
       "NV                  197     2790136                  7.1\n",
       "HI                   97     1404054                  6.9\n",
       "MA                  424     6692824                  6.3\n",
       "NJ                  555     8899339                  6.2\n",
       "VA                  469     8260405                  5.7\n",
       "CA                 2150    38332521                  5.6\n",
       "AZ                  353     6626624                  5.3\n",
       "NM                  107     2085287                  5.1\n",
       "NY                  999    19651127                  5.1\n",
       "WA                  350     6971406                  5.0\n",
       "OR                  197     3930065                  5.0\n",
       "CT                  171     3596080                  4.8\n",
       "MD                  287     5928814                  4.8\n",
       "CO                  241     5268367                  4.6\n",
       "NH                   55     1323459                  4.2\n",
       "FL                  763    19552860                  3.9\n",
       "ID                   61     1612136                  3.8\n",
       "GA                  366     9992167                  3.7\n",
       "IN                  234     6570902                  3.6\n",
       "IL                  446    12882135                  3.5\n",
       "PA                  436    12773801                  3.4\n",
       "MN                  176     5420380                  3.2\n",
       "ME                   43     1328302                  3.2\n",
       "MI                  290     9895622                  2.9\n",
       "RI                   30     1051511                  2.9\n",
       "TX                  770    26448193                  2.9\n",
       "WV                   53     1854304                  2.9\n",
       "NC                  280     9848060                  2.8\n",
       "OH                  320    11570808                  2.8\n",
       "WI                  157     5742713                  2.7\n",
       "MT                   26     1015165                  2.6\n",
       "MO                  149     6044171                  2.5\n",
       "WY                   14      582658                  2.4\n",
       "TN                  143     6495978                  2.2\n",
       "SC                  106     4774839                  2.2\n",
       "KY                   97     4395295                  2.2\n",
       "UT                   63     2900872                  2.2\n",
       "NE                   40     1868516                  2.1\n",
       "AL                   97     4833722                  2.0\n",
       "LA                   88     4625470                  1.9\n",
       "KS                   51     2893957                  1.8\n",
       "AK                   13      735132                  1.8\n",
       "IA                   54     3090416                  1.7\n",
       "MS                   48     2991207                  1.6\n",
       "VT                   10      626630                  1.6\n",
       "AR                   48     2959373                  1.6\n",
       "SD                   11      844877                  1.3\n",
       "OK                   45     3850568                  1.2\n",
       "ND                    7      723393                  1.0\n",
       "PR                    2     3615086                  0.1"
      ]
     },
     "execution_count": 37,
     "metadata": {},
     "output_type": "execute_result"
    }
   ],
   "source": [
    "states_2014.sort_values(\"complaints_per_100k\", ascending=False)"
   ]
  }
 ],
 "metadata": {
  "kernelspec": {
   "display_name": "Python 3",
   "language": "python",
   "name": "python3"
  },
  "language_info": {
   "codemirror_mode": {
    "name": "ipython",
    "version": 3
   },
   "file_extension": ".py",
   "mimetype": "text/x-python",
   "name": "python",
   "nbconvert_exporter": "python",
   "pygments_lexer": "ipython3",
   "version": "3.7.3"
  }
 },
 "nbformat": 4,
 "nbformat_minor": 1
}
